{
 "cells": [
  {
   "cell_type": "markdown",
   "metadata": {},
   "source": [
    "# MLP with 2 Dense Layers and Fully Descriptive Board Data; One hot encoded evaluations\n",
    "\n",
    "board is one hot encoded; uses 8 bits to describe each piece; evaluation has 5 bits\n"
   ]
  },
  {
   "cell_type": "markdown",
   "metadata": {},
   "source": [
    "## Imports"
   ]
  },
  {
   "cell_type": "code",
   "execution_count": 1,
   "metadata": {},
   "outputs": [
    {
     "name": "stderr",
     "output_type": "stream",
     "text": [
      "/Users/WillLacey/anaconda3/lib/python3.6/site-packages/h5py/__init__.py:36: FutureWarning: Conversion of the second argument of issubdtype from `float` to `np.floating` is deprecated. In future, it will be treated as `np.float64 == np.dtype(float).type`.\n",
      "  from ._conv import register_converters as _register_converters\n",
      "Using TensorFlow backend.\n"
     ]
    }
   ],
   "source": [
    "import keras\n",
    "from keras.layers import Dense, Dropout, Activation, Flatten\n",
    "from keras.layers import Conv1D, MaxPooling1D\n",
    "from keras.callbacks import EarlyStopping\n",
    "from keras.models import Input, Model\n",
    "from keras.models import load_model\n",
    "\n",
    "import matplotlib\n",
    "from matplotlib import pyplot as plt\n",
    "\n",
    "import numpy as np\n",
    "\n",
    "import pandas as pd\n",
    "\n",
    "import random\n",
    "\n",
    "import seaborn as sns\n",
    "sns.set(style='darkgrid')\n",
    "\n",
    "import sklearn\n",
    "import sklearn.datasets\n",
    "from sklearn import metrics as mt\n",
    "from sklearn.metrics import roc_curve, auc, accuracy_score\n",
    "\n",
    "import sys"
   ]
  },
  {
   "cell_type": "markdown",
   "metadata": {},
   "source": [
    "## Load Data"
   ]
  },
  {
   "cell_type": "code",
   "execution_count": 2,
   "metadata": {},
   "outputs": [
    {
     "name": "stdout",
     "output_type": "stream",
     "text": [
      "Succeeded to Open File.\n",
      "\n",
      "<class 'pandas.core.frame.DataFrame'>\n",
      "RangeIndex: 390 entries, 0 to 389\n",
      "Data columns (total 2 columns):\n",
      "Evaluation    390 non-null float64\n",
      "FEN           390 non-null object\n",
      "dtypes: float64(1), object(1)\n",
      "memory usage: 6.2+ KB\n",
      "None\n"
     ]
    }
   ],
   "source": [
    "try:\n",
    "    df = pd.read_csv('chess_fen_data.csv') # read in the csv file\n",
    "    print(\"Succeeded to Open File.\\n\")\n",
    "    print(df.info()) \n",
    "    \n",
    "except IOError:\n",
    "    print(\"Failed to Open Files. Quitting Program.\")\n",
    "    sys.exit"
   ]
  },
  {
   "cell_type": "code",
   "execution_count": 3,
   "metadata": {},
   "outputs": [
    {
     "data": {
      "text/html": [
       "<div>\n",
       "<style scoped>\n",
       "    .dataframe tbody tr th:only-of-type {\n",
       "        vertical-align: middle;\n",
       "    }\n",
       "\n",
       "    .dataframe tbody tr th {\n",
       "        vertical-align: top;\n",
       "    }\n",
       "\n",
       "    .dataframe thead th {\n",
       "        text-align: right;\n",
       "    }\n",
       "</style>\n",
       "<table border=\"1\" class=\"dataframe\">\n",
       "  <thead>\n",
       "    <tr style=\"text-align: right;\">\n",
       "      <th></th>\n",
       "      <th>Evaluation</th>\n",
       "      <th>FEN</th>\n",
       "    </tr>\n",
       "  </thead>\n",
       "  <tbody>\n",
       "    <tr>\n",
       "      <th>0</th>\n",
       "      <td>0.2</td>\n",
       "      <td>rnbqkbnr/pppppppp/8/8/8/8/PPPPPPPP/RNBQKBNR w ...</td>\n",
       "    </tr>\n",
       "    <tr>\n",
       "      <th>1</th>\n",
       "      <td>0.2</td>\n",
       "      <td>rnbqkbnr/pppppppp/8/8/4P3/8/PPPP1PPP/RNBQKBNR ...</td>\n",
       "    </tr>\n",
       "    <tr>\n",
       "      <th>2</th>\n",
       "      <td>0.4</td>\n",
       "      <td>rnbqkbnr/pppp1ppp/8/4p3/4P3/8/PPPP1PPP/RNBQKBN...</td>\n",
       "    </tr>\n",
       "    <tr>\n",
       "      <th>3</th>\n",
       "      <td>0.3</td>\n",
       "      <td>rnbqkbnr/pppp1ppp/8/4p3/4P3/5N2/PPPP1PPP/RNBQK...</td>\n",
       "    </tr>\n",
       "    <tr>\n",
       "      <th>4</th>\n",
       "      <td>0.2</td>\n",
       "      <td>r1bqkbnr/pppp1ppp/2n5/4p3/4P3/5N2/PPPP1PPP/RNB...</td>\n",
       "    </tr>\n",
       "  </tbody>\n",
       "</table>\n",
       "</div>"
      ],
      "text/plain": [
       "   Evaluation                                                FEN\n",
       "0         0.2  rnbqkbnr/pppppppp/8/8/8/8/PPPPPPPP/RNBQKBNR w ...\n",
       "1         0.2  rnbqkbnr/pppppppp/8/8/4P3/8/PPPP1PPP/RNBQKBNR ...\n",
       "2         0.4  rnbqkbnr/pppp1ppp/8/4p3/4P3/8/PPPP1PPP/RNBQKBN...\n",
       "3         0.3  rnbqkbnr/pppp1ppp/8/4p3/4P3/5N2/PPPP1PPP/RNBQK...\n",
       "4         0.2  r1bqkbnr/pppp1ppp/2n5/4p3/4P3/5N2/PPPP1PPP/RNB..."
      ]
     },
     "execution_count": 3,
     "metadata": {},
     "output_type": "execute_result"
    }
   ],
   "source": [
    "df[0:5]"
   ]
  },
  {
   "cell_type": "markdown",
   "metadata": {},
   "source": [
    "## Converting Fen into One Hot Encoding Metric"
   ]
  },
  {
   "cell_type": "code",
   "execution_count": 4,
   "metadata": {},
   "outputs": [
    {
     "name": "stdout",
     "output_type": "stream",
     "text": [
      "rnbqkbnr/pppppppp/8/8/8/8/PPPPPPPP/RNBQKBNR w KQkq - 0 1\n",
      "[[1, 0, 0, 0, 0, 1, 0, 0], [1, 0, 0, 1, 0, 0, 0, 0], [1, 0, 0, 0, 1, 0, 0, 0], [1, 0, 0, 0, 0, 0, 1, 0], [1, 0, 0, 0, 0, 0, 0, 1], [1, 0, 0, 0, 1, 0, 0, 0], [1, 0, 0, 1, 0, 0, 0, 0], [1, 0, 0, 0, 0, 1, 0, 0], [1, 0, 1, 0, 0, 0, 0, 0], [1, 0, 1, 0, 0, 0, 0, 0], [1, 0, 1, 0, 0, 0, 0, 0], [1, 0, 1, 0, 0, 0, 0, 0], [1, 0, 1, 0, 0, 0, 0, 0], [1, 0, 1, 0, 0, 0, 0, 0], [1, 0, 1, 0, 0, 0, 0, 0], [1, 0, 1, 0, 0, 0, 0, 0], [0, 0, 0, 0, 0, 0, 0, 0], [0, 0, 0, 0, 0, 0, 0, 0], [0, 0, 0, 0, 0, 0, 0, 0], [0, 0, 0, 0, 0, 0, 0, 0], [0, 0, 0, 0, 0, 0, 0, 0], [0, 0, 0, 0, 0, 0, 0, 0], [0, 0, 0, 0, 0, 0, 0, 0], [0, 0, 0, 0, 0, 0, 0, 0], [0, 0, 0, 0, 0, 0, 0, 0], [0, 0, 0, 0, 0, 0, 0, 0], [0, 0, 0, 0, 0, 0, 0, 0], [0, 0, 0, 0, 0, 0, 0, 0], [0, 0, 0, 0, 0, 0, 0, 0], [0, 0, 0, 0, 0, 0, 0, 0], [0, 0, 0, 0, 0, 0, 0, 0], [0, 0, 0, 0, 0, 0, 0, 0], [0, 0, 0, 0, 0, 0, 0, 0], [0, 0, 0, 0, 0, 0, 0, 0], [0, 0, 0, 0, 0, 0, 0, 0], [0, 0, 0, 0, 0, 0, 0, 0], [0, 0, 0, 0, 0, 0, 0, 0], [0, 0, 0, 0, 0, 0, 0, 0], [0, 0, 0, 0, 0, 0, 0, 0], [0, 0, 0, 0, 0, 0, 0, 0], [0, 0, 0, 0, 0, 0, 0, 0], [0, 0, 0, 0, 0, 0, 0, 0], [0, 0, 0, 0, 0, 0, 0, 0], [0, 0, 0, 0, 0, 0, 0, 0], [0, 0, 0, 0, 0, 0, 0, 0], [0, 0, 0, 0, 0, 0, 0, 0], [0, 0, 0, 0, 0, 0, 0, 0], [0, 0, 0, 0, 0, 0, 0, 0], [1, 1, 1, 0, 0, 0, 0, 0], [1, 1, 1, 0, 0, 0, 0, 0], [1, 1, 1, 0, 0, 0, 0, 0], [1, 1, 1, 0, 0, 0, 0, 0], [1, 1, 1, 0, 0, 0, 0, 0], [1, 1, 1, 0, 0, 0, 0, 0], [1, 1, 1, 0, 0, 0, 0, 0], [1, 1, 1, 0, 0, 0, 0, 0], [1, 1, 0, 0, 0, 1, 0, 0], [1, 1, 0, 1, 0, 0, 0, 0], [1, 1, 0, 0, 1, 0, 0, 0], [1, 1, 0, 0, 0, 0, 1, 0], [1, 1, 0, 0, 0, 0, 0, 1], [1, 1, 0, 0, 1, 0, 0, 0], [1, 1, 0, 1, 0, 0, 0, 0], [1, 1, 0, 0, 0, 1, 0, 0], 1, 1, 1, 1, 1]\n",
      "69\n"
     ]
    }
   ],
   "source": [
    "one_hot_encoding = []\n",
    "for fen in df['FEN']:\n",
    "    data = []\n",
    "#     rank = []\n",
    "    additional_info_index = 0\n",
    "    for c in fen:\n",
    "        if c == 'p':\n",
    "            data.append([1, 0, 1, 0, 0, 0, 0, 0])\n",
    "        elif c == 'n':\n",
    "            data.append([1, 0, 0, 1, 0, 0, 0, 0])\n",
    "        elif c == 'b':\n",
    "            data.append([1, 0, 0, 0, 1, 0, 0, 0])\n",
    "        elif c == 'r':\n",
    "            data.append([1, 0, 0, 0, 0, 1, 0, 0])\n",
    "        elif c == 'q':\n",
    "            data.append([1, 0, 0, 0, 0, 0, 1, 0])\n",
    "        elif c == 'k':\n",
    "            data.append([1, 0, 0, 0, 0, 0, 0, 1])\n",
    "        elif c == 'P':\n",
    "            data.append([1, 1, 1, 0, 0, 0, 0, 0])\n",
    "        elif c == 'N':\n",
    "            data.append([1, 1, 0, 1, 0, 0, 0, 0])\n",
    "        elif c == 'B':\n",
    "            data.append([1, 1, 0, 0, 1, 0, 0, 0])\n",
    "        elif c == 'R':\n",
    "            data.append([1, 1, 0, 0, 0, 1, 0, 0])\n",
    "        elif c == 'Q':\n",
    "            data.append([1, 1, 0, 0, 0, 0, 1, 0])\n",
    "        elif c == 'K':\n",
    "            data.append([1, 1, 0, 0, 0, 0, 0, 1])\n",
    "        elif c == '/':\n",
    "            pass\n",
    "        elif c == ' ':\n",
    "            additional_info_index += 1\n",
    "            whitespace_count = 0\n",
    "            buffer = ''\n",
    "            \n",
    "            while additional_info_index < len(fen):\n",
    "                if fen[additional_info_index] != ' ':\n",
    "                    buffer += fen[additional_info_index]\n",
    "                else:\n",
    "                    if whitespace_count == 0: # Who's turn it is\n",
    "                        if buffer == 'w':\n",
    "#                             additional_info.append(1)\n",
    "                            data.append(1)\n",
    "                        else:\n",
    "#                             additional_info.append(-1)\n",
    "                            data.append(0)\n",
    "                    elif whitespace_count == 1: # Who can castle and where\n",
    "                        white_king_side_castle = 0\n",
    "                        white_queen_side_castle = 0\n",
    "                        black_king_side_castle = 0\n",
    "                        black_queen_side_castle = 0\n",
    "                        for c2 in buffer:\n",
    "                            if c2 == 'K':\n",
    "                                white_king_side_castle = 1\n",
    "                            elif c2 == 'Q':\n",
    "                                white_queen_side_castle = 1\n",
    "                            elif c2 == 'k':\n",
    "                                black_king_side_castle = 1\n",
    "                            elif c2 == 'q':\n",
    "                                black_queen_side_castle = 1\n",
    "                        data.append(white_king_side_castle)\n",
    "                        data.append(white_queen_side_castle)\n",
    "                        data.append(black_king_side_castle)\n",
    "                        data.append(black_queen_side_castle)\n",
    "                        \n",
    "                    elif whitespace_count == 2: # Can an en passant occur and where\n",
    "                        pass\n",
    "                    elif whitespace_count == 3: # How many turns since capture or pawn advance\n",
    "                        pass\n",
    "                    elif whitespace_count == 4: # What turn is it\n",
    "                        pass\n",
    "                    \n",
    "                    whitespace_count += 1\n",
    "                    buffer = ''\n",
    "                additional_info_index += 1\n",
    "#             data.append(additional_info)\n",
    "            break\n",
    "            \n",
    "        else:\n",
    "            c = int(c)\n",
    "            for i in range(c):\n",
    "#                 rank.append(0)\n",
    "                data.append([0, 0, 0, 0, 0, 0, 0, 0])\n",
    "        additional_info_index += 1\n",
    "        \n",
    "    one_hot_encoding.append(data)\n",
    "\n",
    "print(df['FEN'][0])\n",
    "print(one_hot_encoding[0])\n",
    "print(len(one_hot_encoding[0]))"
   ]
  },
  {
   "cell_type": "markdown",
   "metadata": {},
   "source": [
    "## Doubling the data by flipping color and mirroring board"
   ]
  },
  {
   "cell_type": "code",
   "execution_count": 5,
   "metadata": {},
   "outputs": [
    {
     "name": "stdout",
     "output_type": "stream",
     "text": [
      "[[1, 0, 0, 0, 0, 1, 0, 0], [1, 0, 0, 1, 0, 0, 0, 0], [1, 0, 0, 0, 1, 0, 0, 0], [1, 0, 0, 0, 0, 0, 1, 0], [1, 0, 0, 0, 0, 0, 0, 1], [1, 0, 0, 0, 1, 0, 0, 0], [1, 0, 0, 1, 0, 0, 0, 0], [1, 0, 0, 0, 0, 1, 0, 0], [1, 0, 1, 0, 0, 0, 0, 0], [1, 0, 1, 0, 0, 0, 0, 0], [1, 0, 1, 0, 0, 0, 0, 0], [1, 0, 1, 0, 0, 0, 0, 0], [1, 0, 1, 0, 0, 0, 0, 0], [1, 0, 1, 0, 0, 0, 0, 0], [1, 0, 1, 0, 0, 0, 0, 0], [1, 0, 1, 0, 0, 0, 0, 0], [0, 0, 0, 0, 0, 0, 0, 0], [0, 0, 0, 0, 0, 0, 0, 0], [0, 0, 0, 0, 0, 0, 0, 0], [0, 0, 0, 0, 0, 0, 0, 0], [0, 0, 0, 0, 0, 0, 0, 0], [0, 0, 0, 0, 0, 0, 0, 0], [0, 0, 0, 0, 0, 0, 0, 0], [0, 0, 0, 0, 0, 0, 0, 0], [0, 0, 0, 0, 0, 0, 0, 0], [0, 0, 0, 0, 0, 0, 0, 0], [0, 0, 0, 0, 0, 0, 0, 0], [0, 0, 0, 0, 0, 0, 0, 0], [0, 0, 0, 0, 0, 0, 0, 0], [0, 0, 0, 0, 0, 0, 0, 0], [0, 0, 0, 0, 0, 0, 0, 0], [0, 0, 0, 0, 0, 0, 0, 0], [0, 0, 0, 0, 0, 0, 0, 0], [0, 0, 0, 0, 0, 0, 0, 0], [0, 0, 0, 0, 0, 0, 0, 0], [0, 0, 0, 0, 0, 0, 0, 0], [0, 0, 0, 0, 0, 0, 0, 0], [0, 0, 0, 0, 0, 0, 0, 0], [0, 0, 0, 0, 0, 0, 0, 0], [0, 0, 0, 0, 0, 0, 0, 0], [0, 0, 0, 0, 0, 0, 0, 0], [0, 0, 0, 0, 0, 0, 0, 0], [0, 0, 0, 0, 0, 0, 0, 0], [0, 0, 0, 0, 0, 0, 0, 0], [0, 0, 0, 0, 0, 0, 0, 0], [0, 0, 0, 0, 0, 0, 0, 0], [0, 0, 0, 0, 0, 0, 0, 0], [0, 0, 0, 0, 0, 0, 0, 0], [1, 1, 1, 0, 0, 0, 0, 0], [1, 1, 1, 0, 0, 0, 0, 0], [1, 1, 1, 0, 0, 0, 0, 0], [1, 1, 1, 0, 0, 0, 0, 0], [1, 1, 1, 0, 0, 0, 0, 0], [1, 1, 1, 0, 0, 0, 0, 0], [1, 1, 1, 0, 0, 0, 0, 0], [1, 1, 1, 0, 0, 0, 0, 0], [1, 1, 0, 0, 0, 1, 0, 0], [1, 1, 0, 1, 0, 0, 0, 0], [1, 1, 0, 0, 1, 0, 0, 0], [1, 1, 0, 0, 0, 0, 1, 0], [1, 1, 0, 0, 0, 0, 0, 1], [1, 1, 0, 0, 1, 0, 0, 0], [1, 1, 0, 1, 0, 0, 0, 0], [1, 1, 0, 0, 0, 1, 0, 0], 0, 1, 1, 1, 1]\n",
      "69\n"
     ]
    }
   ],
   "source": [
    "new_one_hot_encoding = []\n",
    "for encoding in one_hot_encoding:\n",
    "    new_encoding = []\n",
    "    new_row = []\n",
    "    \n",
    "    count = 63\n",
    "    while count >= 0:\n",
    "        if (count+1) % 8 == 0 and (count+1) != 64:\n",
    "            new_row.reverse()\n",
    "            new_encoding.extend(new_row)\n",
    "            new_row = []\n",
    "        if encoding[count][0]:\n",
    "            if encoding[count][1]:\n",
    "                encoding[count][1] = 0\n",
    "            else:\n",
    "                encoding[count][1] = 1\n",
    "        new_row.append(encoding[count])\n",
    "        count -= 1\n",
    "    new_row.reverse()\n",
    "    new_encoding.extend(new_row)\n",
    "\n",
    "    if encoding[64]: \n",
    "        new_encoding.append(0)\n",
    "    else:\n",
    "        new_encoding.append(1)\n",
    "    \n",
    "    new_encoding.append(encoding[67])\n",
    "    new_encoding.append(encoding[68])\n",
    "    new_encoding.append(encoding[65])\n",
    "    new_encoding.append(encoding[66])\n",
    "    \n",
    "    new_one_hot_encoding.append(new_encoding)\n",
    "    \n",
    "print(new_one_hot_encoding[0])\n",
    "print(len(new_one_hot_encoding[0]))"
   ]
  },
  {
   "cell_type": "markdown",
   "metadata": {},
   "source": [
    "Let's quickly extract the evaluations from the dataframe, then double the entries"
   ]
  },
  {
   "cell_type": "code",
   "execution_count": 6,
   "metadata": {},
   "outputs": [
    {
     "name": "stdout",
     "output_type": "stream",
     "text": [
      "Number of position encodings: 780\n",
      "Number of position evaluations: 780\n"
     ]
    }
   ],
   "source": [
    "combined_one_hot_encoding = one_hot_encoding\n",
    "combined_one_hot_encoding.extend(new_one_hot_encoding)\n",
    "print(\"Number of position encodings:\", len(combined_one_hot_encoding))\n",
    "\n",
    "evaluations = []\n",
    "for val in df['Evaluation']:\n",
    "    evaluations.append(val)\n",
    "\n",
    "new_evaluations = []\n",
    "for val in df['Evaluation']:\n",
    "    evaluations.append(-1 * val) \n",
    "\n",
    "combined_evaluations = evaluations\n",
    "combined_evaluations.extend(new_evaluations)\n",
    "print(\"Number of position evaluations:\", len(combined_evaluations))\n",
    "\n",
    "# If removing Double Data, uncomment lines below\n",
    "# combined_evaluations = evaluations\n",
    "# combined_one_hot_encoding = one_hot_encoding"
   ]
  },
  {
   "cell_type": "markdown",
   "metadata": {},
   "source": [
    "Now let's linearize combined_custom_representations"
   ]
  },
  {
   "cell_type": "code",
   "execution_count": 7,
   "metadata": {},
   "outputs": [
    {
     "name": "stdout",
     "output_type": "stream",
     "text": [
      "[1, 1, 0, 0, 0, 1, 0, 0, 1, 1, 0, 1, 0, 0, 0, 0, 1, 1, 0, 0, 1, 0, 0, 0, 1, 1, 0, 0, 0, 0, 1, 0, 1, 1, 0, 0, 0, 0, 0, 1, 1, 1, 0, 0, 1, 0, 0, 0, 1, 1, 0, 1, 0, 0, 0, 0, 1, 1, 0, 0, 0, 1, 0, 0, 1, 1, 1, 0, 0, 0, 0, 0, 1, 1, 1, 0, 0, 0, 0, 0, 1, 1, 1, 0, 0, 0, 0, 0, 1, 1, 1, 0, 0, 0, 0, 0, 1, 1, 1, 0, 0, 0, 0, 0, 1, 1, 1, 0, 0, 0, 0, 0, 1, 1, 1, 0, 0, 0, 0, 0, 1, 1, 1, 0, 0, 0, 0, 0, 0, 0, 0, 0, 0, 0, 0, 0, 0, 0, 0, 0, 0, 0, 0, 0, 0, 0, 0, 0, 0, 0, 0, 0, 0, 0, 0, 0, 0, 0, 0, 0, 0, 0, 0, 0, 0, 0, 0, 0, 0, 0, 0, 0, 0, 0, 0, 0, 0, 0, 0, 0, 0, 0, 0, 0, 0, 0, 0, 0, 0, 0, 0, 0, 0, 0, 0, 0, 0, 0, 0, 0, 0, 0, 0, 0, 0, 0, 0, 0, 0, 0, 0, 0, 0, 0, 0, 0, 0, 0, 0, 0, 0, 0, 0, 0, 0, 0, 0, 0, 0, 0, 0, 0, 0, 0, 0, 0, 0, 0, 0, 0, 0, 0, 0, 0, 0, 0, 0, 0, 0, 0, 0, 0, 0, 0, 0, 0, 0, 0, 0, 0, 0, 0, 0, 0, 0, 0, 0, 0, 0, 0, 0, 0, 0, 0, 0, 0, 0, 0, 0, 0, 0, 0, 0, 0, 0, 0, 0, 0, 0, 0, 0, 0, 0, 0, 0, 0, 0, 0, 0, 0, 0, 0, 0, 0, 0, 0, 0, 0, 0, 0, 0, 0, 0, 0, 0, 0, 0, 0, 0, 0, 0, 0, 0, 0, 0, 0, 0, 0, 0, 0, 0, 0, 0, 0, 0, 0, 0, 0, 0, 0, 0, 0, 0, 0, 0, 0, 0, 0, 0, 0, 0, 0, 0, 0, 0, 0, 0, 0, 0, 0, 0, 0, 0, 0, 0, 0, 0, 0, 0, 0, 0, 0, 0, 0, 0, 0, 0, 0, 0, 0, 0, 0, 0, 0, 1, 0, 1, 0, 0, 0, 0, 0, 1, 0, 1, 0, 0, 0, 0, 0, 1, 0, 1, 0, 0, 0, 0, 0, 1, 0, 1, 0, 0, 0, 0, 0, 1, 0, 1, 0, 0, 0, 0, 0, 1, 0, 1, 0, 0, 0, 0, 0, 1, 0, 1, 0, 0, 0, 0, 0, 1, 0, 1, 0, 0, 0, 0, 0, 1, 0, 0, 0, 0, 1, 0, 0, 1, 0, 0, 1, 0, 0, 0, 0, 1, 0, 0, 0, 1, 0, 0, 0, 1, 0, 0, 0, 0, 0, 1, 0, 1, 0, 0, 0, 0, 0, 0, 1, 1, 0, 0, 0, 1, 0, 0, 0, 1, 0, 0, 1, 0, 0, 0, 0, 1, 0, 0, 0, 0, 1, 0, 0, 1, 1, 1, 1, 1]\n",
      "The length of one entry is: 517\n"
     ]
    }
   ],
   "source": [
    "linearized_one_hot_encoding = []\n",
    "for encoding in combined_one_hot_encoding:\n",
    "    new_encoding = []\n",
    "    for data in encoding[0:64]:\n",
    "        new_encoding.extend(data)\n",
    "    new_encoding.append(encoding[64])\n",
    "    new_encoding.append(encoding[65])\n",
    "    new_encoding.append(encoding[66])\n",
    "    new_encoding.append(encoding[67])\n",
    "    new_encoding.append(encoding[68])\n",
    "    linearized_one_hot_encoding.append(new_encoding)\n",
    "        \n",
    "print(linearized_one_hot_encoding[0])\n",
    "print(\"The length of one entry is:\", len(linearized_one_hot_encoding[0]))"
   ]
  },
  {
   "cell_type": "markdown",
   "metadata": {},
   "source": [
    "Okay, let's one hot encode the evaluation values into 5 bits: [0, 0, 0, 0, 0]\n",
    "- combined_evaluations[n][0] : black won (less than 9)\n",
    "- combined_evaluations[n][1] : black winning\n",
    "- combined_evaluations[n][2] : tie\n",
    "- combined_evaluations[n][3] : white winning\n",
    "- combined_evaluations[n][4] : white won (greater than 9)\n"
   ]
  },
  {
   "cell_type": "code",
   "execution_count": 8,
   "metadata": {},
   "outputs": [
    {
     "data": {
      "text/plain": [
       "[array([0, 0, 1, 0, 0]),\n",
       " array([0, 0, 1, 0, 0]),\n",
       " array([0, 0, 1, 0, 0]),\n",
       " array([0, 0, 1, 0, 0]),\n",
       " array([0, 0, 1, 0, 0]),\n",
       " array([0, 0, 1, 0, 0]),\n",
       " array([0, 0, 1, 0, 0]),\n",
       " array([0, 0, 1, 0, 0])]"
      ]
     },
     "execution_count": 8,
     "metadata": {},
     "output_type": "execute_result"
    }
   ],
   "source": [
    "ohe_combined_evaluations = []\n",
    "for i in range(len(combined_evaluations)):\n",
    "    if combined_evaluations[i] > 9:\n",
    "        ohe_combined_evaluations.append(np.array([0, 0, 0, 0, 1]))\n",
    "    elif combined_evaluations[i] > 1:\n",
    "        ohe_combined_evaluations.append(np.array([0, 0, 0, 1, 0]))\n",
    "    elif combined_evaluations[i] > -1:\n",
    "        ohe_combined_evaluations.append(np.array([0, 0, 1, 0, 0]))\n",
    "    elif combined_evaluations[i] > -9:\n",
    "        ohe_combined_evaluations.append(np.array([0, 1, 0, 0, 0]))\n",
    "    else:\n",
    "        ohe_combined_evaluations.append(np.array([1, 0, 0, 0, 0]))\n",
    "    \n",
    "    \n",
    "ohe_combined_evaluations[0:8]"
   ]
  },
  {
   "cell_type": "markdown",
   "metadata": {},
   "source": [
    "Now we're goin to one hot encode the evaluation"
   ]
  },
  {
   "cell_type": "markdown",
   "metadata": {},
   "source": [
    "## Preparing the Dataset"
   ]
  },
  {
   "cell_type": "markdown",
   "metadata": {},
   "source": [
    "These are some useful functions for preparing the sklearn dataset"
   ]
  },
  {
   "cell_type": "code",
   "execution_count": 9,
   "metadata": {},
   "outputs": [],
   "source": [
    "def shuffle(data, seed=0):\n",
    "    \"\"\"Shuffles the data given a random seed\"\"\"\n",
    "    random.seed(seed)\n",
    "    random.shuffle(data)\n",
    "    return data\n",
    "\n",
    "def split(data, percentage, number_of_classes=1):\n",
    "    \"\"\"Splits data and target into training and testing data based off the split percentage\"\"\"\n",
    "\n",
    "    train = []\n",
    "    test = []\n",
    "    number_per_class = int(len(data) / number_of_classes)\n",
    "    \n",
    "    for i in range(number_of_classes):\n",
    "        start = i * number_per_class\n",
    "        index_split = start + int(percentage * number_per_class)\n",
    "        end = (i * number_per_class) + number_per_class\n",
    "        \n",
    "        train.extend(data[start:index_split])\n",
    "        test.extend(data[index_split:end])\n",
    "        \n",
    "    return train, test"
   ]
  },
  {
   "cell_type": "markdown",
   "metadata": {},
   "source": [
    "Next, shuffling and splitting the data"
   ]
  },
  {
   "cell_type": "code",
   "execution_count": 10,
   "metadata": {},
   "outputs": [],
   "source": [
    "# Shuffle Data\n",
    "random_seed = random.randint(0, 1000) # Create a random seed for shuffling\n",
    "shuffled_ohe = shuffle(linearized_one_hot_encoding, random_seed)\n",
    "shuffled_eval = shuffle(ohe_combined_evaluations, random_seed)\n",
    "\n",
    "# Split Data\n",
    "percentage = 9/10 # 90 10 split\n",
    "data_train, data_test = split(shuffled_ohe, percentage)\n",
    "target_train, target_test = split(shuffled_eval, percentage)"
   ]
  },
  {
   "cell_type": "markdown",
   "metadata": {},
   "source": [
    "Create Sklearn dataset"
   ]
  },
  {
   "cell_type": "code",
   "execution_count": 11,
   "metadata": {},
   "outputs": [
    {
     "data": {
      "text/plain": [
       "array([0, 0, 0, 0, 0, 0, 0, 0, 0, 0, 0, 0, 0, 0, 0, 0, 0, 0, 0, 0, 0, 0,\n",
       "       0, 0, 0, 0, 0, 0, 0, 0, 0, 0, 0, 0, 0, 0, 0, 0, 0, 0, 0, 0, 0, 0,\n",
       "       0, 0, 0, 0, 0, 0, 0, 0, 0, 0, 0, 0, 0, 0, 0, 0, 0, 0, 0, 0, 0, 0,\n",
       "       0, 0, 0, 0, 0, 0, 0, 0, 0, 0, 0, 0, 0, 0, 0, 0, 0, 0, 0, 0, 0, 0,\n",
       "       0, 0, 0, 0, 0, 0, 0, 0, 0, 0, 0, 0, 0, 0, 0, 0, 0, 0, 0, 0, 0, 0,\n",
       "       0, 0, 0, 0, 0, 0, 0, 0, 0, 0, 0, 0, 0, 0, 0, 0, 0, 0, 0, 0, 0, 0,\n",
       "       0, 0, 0, 0, 0, 0, 0, 0, 0, 0, 0, 0, 0, 0, 0, 0, 0, 0, 0, 0, 0, 0,\n",
       "       0, 0, 0, 0, 0, 0, 0, 0, 0, 0, 0, 0, 0, 0, 0, 0, 0, 0, 0, 0, 0, 0,\n",
       "       0, 0, 0, 0, 0, 0, 0, 0, 0, 0, 0, 0, 0, 0, 0, 0, 0, 0, 0, 0, 0, 0,\n",
       "       0, 0, 0, 0, 0, 0, 0, 0, 0, 0, 0, 0, 0, 0, 0, 0, 0, 0, 0, 0, 0, 0,\n",
       "       0, 0, 0, 0, 0, 0, 0, 0, 0, 0, 0, 0, 0, 0, 0, 0, 0, 0, 0, 0, 0, 0,\n",
       "       0, 0, 0, 0, 0, 0, 1, 1, 1, 0, 0, 0, 0, 0, 0, 0, 0, 0, 0, 0, 0, 0,\n",
       "       0, 0, 0, 0, 0, 0, 0, 0, 0, 0, 0, 0, 0, 0, 0, 0, 0, 0, 0, 0, 0, 0,\n",
       "       0, 0, 0, 0, 0, 0, 0, 0, 0, 0, 0, 0, 0, 0, 0, 0, 0, 0, 0, 0, 0, 0,\n",
       "       0, 0, 0, 0, 1, 0, 1, 0, 0, 0, 0, 0, 0, 0, 0, 0, 0, 0, 0, 0, 0, 0,\n",
       "       0, 0, 0, 0, 0, 0, 0, 0, 0, 0, 0, 0, 0, 0, 0, 0, 0, 0, 0, 0, 0, 0,\n",
       "       0, 0, 0, 0, 0, 0, 0, 0, 1, 1, 0, 0, 0, 0, 0, 1, 0, 0, 0, 0, 0, 0,\n",
       "       0, 0, 1, 0, 0, 0, 0, 0, 0, 1, 0, 0, 0, 0, 0, 0, 0, 0, 0, 0, 0, 0,\n",
       "       0, 0, 0, 0, 0, 0, 0, 0, 0, 0, 0, 0, 0, 0, 0, 0, 0, 0, 0, 0, 1, 1,\n",
       "       1, 0, 0, 0, 0, 0, 0, 0, 0, 0, 0, 0, 0, 0, 0, 0, 0, 0, 0, 0, 0, 0,\n",
       "       0, 0, 0, 0, 0, 0, 0, 0, 0, 0, 0, 0, 0, 0, 0, 0, 0, 0, 0, 0, 0, 0,\n",
       "       0, 0, 0, 0, 0, 0, 0, 0, 0, 0, 0, 0, 0, 0, 0, 0, 0, 0, 1, 1, 0, 0,\n",
       "       0, 1, 0, 0, 0, 0, 0, 0, 0, 0, 0, 0, 0, 0, 0, 0, 0, 0, 0, 0, 0, 0,\n",
       "       0, 0, 0, 0, 0, 0, 0, 0, 0, 0, 0])"
      ]
     },
     "execution_count": 11,
     "metadata": {},
     "output_type": "execute_result"
    }
   ],
   "source": [
    "ds = sklearn.datasets.base.Bunch(\n",
    "    X_train = np.array(data_train),\n",
    "    X_test = np.array(data_test),\n",
    "    y_train = np.array(target_train),\n",
    "    y_test = np.array(target_test)\n",
    ")\n",
    "ds.X_train[0]"
   ]
  },
  {
   "cell_type": "markdown",
   "metadata": {},
   "source": [
    "Maybe we should delete data that is no longer needed. I don't know man"
   ]
  },
  {
   "cell_type": "code",
   "execution_count": 12,
   "metadata": {},
   "outputs": [],
   "source": [
    "del data_train\n",
    "del data_test\n",
    "del target_train\n",
    "del target_test\n",
    "del shuffled_ohe\n",
    "del shuffled_eval\n",
    "\n",
    "del one_hot_encoding\n",
    "del new_one_hot_encoding\n",
    "del combined_one_hot_encoding\n",
    "del linearized_one_hot_encoding\n",
    "\n",
    "del evaluations\n",
    "del new_evaluations\n",
    "del combined_evaluations\n",
    "del ohe_combined_evaluations"
   ]
  },
  {
   "cell_type": "markdown",
   "metadata": {},
   "source": [
    "## Modeling"
   ]
  },
  {
   "cell_type": "code",
   "execution_count": 13,
   "metadata": {},
   "outputs": [],
   "source": [
    "def network_fit(nn, X_train, y_train, X_test, y_test, epochs=50, batch_size=16, patience=5, verbose=0):\n",
    "    \"\"\"Fits data to a neural network using a specified epoch count and batch size; also \n",
    "    utilizes a specified data expansion\"\"\"\n",
    "    history = nn.fit(x=X_train, \n",
    "                     y=y_train, \n",
    "                     validation_data=(X_test, y_test), \n",
    "                     epochs=epochs, \n",
    "#                      steps_per_epoch=int(len(X_train)/batch_size),\n",
    "                     batch_size=batch_size, \n",
    "                     verbose=verbose, \n",
    "                     callbacks=[EarlyStopping(monitor='val_loss', patience=patience)]   \n",
    "    )\n",
    "    \n",
    "    return history\n",
    "\n",
    "def network_predict(nn, X_test, y_test):\n",
    "    \"\"\"Returns an accuracy for a neural network, a confusion matrix, and ROC data\"\"\"\n",
    "    yhat_proba = nn.predict(X_test)\n",
    "    yhat = np.round(yhat_proba, 3)\n",
    "#     acc = mt.accuracy_score(y_test, yhat)\n",
    "#     fpr, tpr, _ = roc_curve(y_test.flatten(), yhat_proba.flatten())\n",
    "#     roc_auc = auc(fpr, tpr)\n",
    "    return yhat\n",
    "\n",
    "def network_plot(history):    \n",
    "    \"\"\"Visualizes the performance of the training and validation sets per epoch\"\"\"\n",
    "    plt.figure(figsize=(15,5))\n",
    "\n",
    "    # summarize history for accuracy\n",
    "    plt.subplot(1,2,1)\n",
    "    plt.plot(history.history['acc'])\n",
    "    plt.plot(history.history['val_acc'])\n",
    "    plt.title('model accuracy')\n",
    "    plt.ylabel('accuracy')\n",
    "    plt.xlabel('epoch')\n",
    "    plt.legend(['train', 'test'], loc='upper left')\n",
    "\n",
    "    # summarize history for loss\n",
    "    plt.subplot(1,2,2)\n",
    "    plt.plot(history.history['loss'])\n",
    "    plt.plot(history.history['val_loss'])\n",
    "    plt.title('model loss')\n",
    "    plt.ylabel('loss')\n",
    "    plt.xlabel('epoch')\n",
    "    plt.legend(['train', 'test'], loc='upper left')\n",
    "    \n",
    "    plt.show()\n",
    "\n",
    "def network_summarize(net, X_test, y_test, title_text=''):\n",
    "    \"\"\"This function visualizes the confusion matrix\"\"\"\n",
    "    plt.figure(figsize=(15,10))\n",
    "    yhat = np.argmax(net.predict(X_test), axis=1)\n",
    "    acc = mt.accuracy_score(y_test,yhat)\n",
    "    cm = mt.confusion_matrix(y_test,yhat)\n",
    "    cm = cm/np.sum(cm,axis=1)[:,np.newaxis]\n",
    "    sns.heatmap(cm, annot=True, fmt='.2f')\n",
    "    plt.title(title_text+'{:.4f}'.format(acc))"
   ]
  },
  {
   "cell_type": "markdown",
   "metadata": {},
   "source": [
    "Alright let's build the CNN"
   ]
  },
  {
   "cell_type": "code",
   "execution_count": 14,
   "metadata": {},
   "outputs": [
    {
     "name": "stdout",
     "output_type": "stream",
     "text": [
      "_________________________________________________________________\n",
      "Layer (type)                 Output Shape              Param #   \n",
      "=================================================================\n",
      "Input (InputLayer)           (None, 517, 1)            0         \n",
      "_________________________________________________________________\n",
      "Flatten (Flatten)            (None, 517)               0         \n",
      "_________________________________________________________________\n",
      "Dense1 (Dense)               (None, 260)               134680    \n",
      "_________________________________________________________________\n",
      "Dropout1 (Dropout)           (None, 260)               0         \n",
      "_________________________________________________________________\n",
      "Dense2 (Dense)               (None, 65)                16965     \n",
      "_________________________________________________________________\n",
      "Dropout2 (Dropout)           (None, 65)                0         \n",
      "_________________________________________________________________\n",
      "Output (Dense)               (None, 5)                 330       \n",
      "=================================================================\n",
      "Total params: 151,975\n",
      "Trainable params: 151,975\n",
      "Non-trainable params: 0\n",
      "_________________________________________________________________\n"
     ]
    }
   ],
   "source": [
    "ds_shape = (ds.X_train.shape[1], 1)\n",
    "\n",
    "inputs = Input(shape=ds_shape, name='Input')\n",
    "x = Flatten(name='Flatten')(inputs)\n",
    "x = Dense(260, name='Dense1', activation='relu')(x)\n",
    "x = Dropout(0.50, name='Dropout1')(x)\n",
    "x = Dense(65, name='Dense2', activation='relu')(x)\n",
    "x = Dropout(0.75, name='Dropout2')(x)\n",
    "predictions = Dense(5, name='Output', activation='softmax')(x) # one output layer to match the stockfish evaluation\n",
    "\n",
    "mlp = Model(inputs=inputs, outputs=predictions)\n",
    "\n",
    "mlp.compile(loss='categorical_crossentropy',\n",
    "              optimizer='adam',\n",
    "              metrics=['accuracy'])\n",
    "\n",
    "mlp.summary()"
   ]
  },
  {
   "cell_type": "markdown",
   "metadata": {},
   "source": [
    "Let's also create a couple variables for training. These parameters will be more or less the guidelines for our networks."
   ]
  },
  {
   "cell_type": "code",
   "execution_count": 15,
   "metadata": {},
   "outputs": [],
   "source": [
    "epochs = 1000\n",
    "batch_size = 16\n",
    "patience = 30\n",
    "verbose = 1"
   ]
  },
  {
   "cell_type": "code",
   "execution_count": 16,
   "metadata": {},
   "outputs": [
    {
     "name": "stdout",
     "output_type": "stream",
     "text": [
      "Train on 702 samples, validate on 78 samples\n",
      "Epoch 1/1000\n",
      "702/702 [==============================] - 0s 562us/step - loss: 1.4661 - acc: 0.4231 - val_loss: 1.1724 - val_acc: 0.4615\n",
      "Epoch 2/1000\n",
      "702/702 [==============================] - 0s 127us/step - loss: 1.1578 - acc: 0.5413 - val_loss: 0.9533 - val_acc: 0.6410\n",
      "Epoch 3/1000\n",
      "702/702 [==============================] - 0s 121us/step - loss: 1.0302 - acc: 0.6282 - val_loss: 0.8161 - val_acc: 0.7179\n",
      "Epoch 4/1000\n",
      "702/702 [==============================] - 0s 123us/step - loss: 0.8961 - acc: 0.6724 - val_loss: 0.7154 - val_acc: 0.7436\n",
      "Epoch 5/1000\n",
      "702/702 [==============================] - 0s 121us/step - loss: 0.7798 - acc: 0.7336 - val_loss: 0.6513 - val_acc: 0.7949\n",
      "Epoch 6/1000\n",
      "702/702 [==============================] - 0s 125us/step - loss: 0.6885 - acc: 0.7621 - val_loss: 0.6148 - val_acc: 0.7692\n",
      "Epoch 7/1000\n",
      "702/702 [==============================] - 0s 126us/step - loss: 0.6231 - acc: 0.7778 - val_loss: 0.5618 - val_acc: 0.7949\n",
      "Epoch 8/1000\n",
      "702/702 [==============================] - 0s 125us/step - loss: 0.5562 - acc: 0.7991 - val_loss: 0.5534 - val_acc: 0.8077\n",
      "Epoch 9/1000\n",
      "702/702 [==============================] - 0s 124us/step - loss: 0.5007 - acc: 0.8348 - val_loss: 0.5296 - val_acc: 0.8077\n",
      "Epoch 10/1000\n",
      "702/702 [==============================] - 0s 131us/step - loss: 0.5104 - acc: 0.8091 - val_loss: 0.4840 - val_acc: 0.8462\n",
      "Epoch 11/1000\n",
      "702/702 [==============================] - 0s 127us/step - loss: 0.4147 - acc: 0.8647 - val_loss: 0.5031 - val_acc: 0.8333\n",
      "Epoch 12/1000\n",
      "702/702 [==============================] - 0s 129us/step - loss: 0.4149 - acc: 0.8732 - val_loss: 0.4562 - val_acc: 0.8462\n",
      "Epoch 13/1000\n",
      "702/702 [==============================] - 0s 149us/step - loss: 0.3431 - acc: 0.8818 - val_loss: 0.4255 - val_acc: 0.8590\n",
      "Epoch 14/1000\n",
      "702/702 [==============================] - 0s 139us/step - loss: 0.3507 - acc: 0.8832 - val_loss: 0.3899 - val_acc: 0.8718\n",
      "Epoch 15/1000\n",
      "702/702 [==============================] - 0s 130us/step - loss: 0.3486 - acc: 0.8704 - val_loss: 0.3811 - val_acc: 0.8590\n",
      "Epoch 16/1000\n",
      "702/702 [==============================] - 0s 127us/step - loss: 0.3476 - acc: 0.8761 - val_loss: 0.3454 - val_acc: 0.8718\n",
      "Epoch 17/1000\n",
      "702/702 [==============================] - 0s 126us/step - loss: 0.2947 - acc: 0.9074 - val_loss: 0.3592 - val_acc: 0.8590\n",
      "Epoch 18/1000\n",
      "702/702 [==============================] - 0s 132us/step - loss: 0.3170 - acc: 0.8932 - val_loss: 0.3616 - val_acc: 0.8718\n",
      "Epoch 19/1000\n",
      "702/702 [==============================] - 0s 146us/step - loss: 0.2597 - acc: 0.9003 - val_loss: 0.3195 - val_acc: 0.8718\n",
      "Epoch 20/1000\n",
      "702/702 [==============================] - 0s 149us/step - loss: 0.2813 - acc: 0.9060 - val_loss: 0.3516 - val_acc: 0.8590\n",
      "Epoch 21/1000\n",
      "702/702 [==============================] - 0s 151us/step - loss: 0.2612 - acc: 0.9103 - val_loss: 0.3116 - val_acc: 0.8590\n",
      "Epoch 22/1000\n",
      "702/702 [==============================] - 0s 138us/step - loss: 0.2814 - acc: 0.9017 - val_loss: 0.3405 - val_acc: 0.8590\n",
      "Epoch 23/1000\n",
      "702/702 [==============================] - 0s 134us/step - loss: 0.2599 - acc: 0.9188 - val_loss: 0.2646 - val_acc: 0.9103\n",
      "Epoch 24/1000\n",
      "702/702 [==============================] - 0s 134us/step - loss: 0.2300 - acc: 0.9231 - val_loss: 0.2606 - val_acc: 0.9231\n",
      "Epoch 25/1000\n",
      "702/702 [==============================] - 0s 144us/step - loss: 0.2553 - acc: 0.9103 - val_loss: 0.2722 - val_acc: 0.8718\n",
      "Epoch 26/1000\n",
      "702/702 [==============================] - 0s 139us/step - loss: 0.2282 - acc: 0.9259 - val_loss: 0.3002 - val_acc: 0.8718\n",
      "Epoch 27/1000\n",
      "702/702 [==============================] - 0s 139us/step - loss: 0.2232 - acc: 0.9345 - val_loss: 0.2951 - val_acc: 0.8974\n",
      "Epoch 28/1000\n",
      "702/702 [==============================] - 0s 128us/step - loss: 0.2294 - acc: 0.9259 - val_loss: 0.2667 - val_acc: 0.8846\n",
      "Epoch 29/1000\n",
      "702/702 [==============================] - 0s 135us/step - loss: 0.2192 - acc: 0.9288 - val_loss: 0.2714 - val_acc: 0.9103\n",
      "Epoch 30/1000\n",
      "702/702 [==============================] - 0s 132us/step - loss: 0.1902 - acc: 0.9373 - val_loss: 0.3349 - val_acc: 0.8718\n",
      "Epoch 31/1000\n",
      "702/702 [==============================] - 0s 134us/step - loss: 0.1914 - acc: 0.9316 - val_loss: 0.2793 - val_acc: 0.8718\n",
      "Epoch 32/1000\n",
      "702/702 [==============================] - 0s 155us/step - loss: 0.2012 - acc: 0.9387 - val_loss: 0.3566 - val_acc: 0.8590\n",
      "Epoch 33/1000\n",
      "702/702 [==============================] - 0s 149us/step - loss: 0.2151 - acc: 0.9345 - val_loss: 0.2709 - val_acc: 0.9103\n",
      "Epoch 34/1000\n",
      "702/702 [==============================] - 0s 150us/step - loss: 0.2035 - acc: 0.9274 - val_loss: 0.2385 - val_acc: 0.8846\n",
      "Epoch 35/1000\n",
      "702/702 [==============================] - 0s 151us/step - loss: 0.1930 - acc: 0.9288 - val_loss: 0.2975 - val_acc: 0.8846\n",
      "Epoch 36/1000\n",
      "702/702 [==============================] - 0s 150us/step - loss: 0.2030 - acc: 0.9345 - val_loss: 0.2501 - val_acc: 0.8974\n",
      "Epoch 37/1000\n",
      "702/702 [==============================] - 0s 152us/step - loss: 0.2237 - acc: 0.9202 - val_loss: 0.2807 - val_acc: 0.8846\n",
      "Epoch 38/1000\n",
      "702/702 [==============================] - 0s 146us/step - loss: 0.1610 - acc: 0.9473 - val_loss: 0.2242 - val_acc: 0.9103\n",
      "Epoch 39/1000\n",
      "702/702 [==============================] - 0s 146us/step - loss: 0.1546 - acc: 0.9530 - val_loss: 0.2271 - val_acc: 0.9359\n",
      "Epoch 40/1000\n",
      "702/702 [==============================] - 0s 135us/step - loss: 0.1458 - acc: 0.9487 - val_loss: 0.2245 - val_acc: 0.9487\n",
      "Epoch 41/1000\n",
      "702/702 [==============================] - 0s 141us/step - loss: 0.1570 - acc: 0.9459 - val_loss: 0.2295 - val_acc: 0.9231\n",
      "Epoch 42/1000\n",
      "702/702 [==============================] - 0s 137us/step - loss: 0.1522 - acc: 0.9487 - val_loss: 0.2865 - val_acc: 0.8974\n",
      "Epoch 43/1000\n",
      "702/702 [==============================] - 0s 136us/step - loss: 0.1563 - acc: 0.9402 - val_loss: 0.2979 - val_acc: 0.8974\n",
      "Epoch 44/1000\n",
      "702/702 [==============================] - 0s 138us/step - loss: 0.1410 - acc: 0.9544 - val_loss: 0.2521 - val_acc: 0.9231\n",
      "Epoch 45/1000\n",
      "702/702 [==============================] - 0s 146us/step - loss: 0.1338 - acc: 0.9601 - val_loss: 0.2590 - val_acc: 0.9103\n",
      "Epoch 46/1000\n",
      "702/702 [==============================] - 0s 150us/step - loss: 0.1297 - acc: 0.9601 - val_loss: 0.2219 - val_acc: 0.9231\n",
      "Epoch 47/1000\n",
      "702/702 [==============================] - 0s 147us/step - loss: 0.1423 - acc: 0.9487 - val_loss: 0.2541 - val_acc: 0.9103\n",
      "Epoch 48/1000\n",
      "702/702 [==============================] - 0s 150us/step - loss: 0.1575 - acc: 0.9516 - val_loss: 0.2617 - val_acc: 0.9103\n",
      "Epoch 49/1000\n",
      "702/702 [==============================] - 0s 149us/step - loss: 0.1556 - acc: 0.9487 - val_loss: 0.2137 - val_acc: 0.9359\n",
      "Epoch 50/1000\n",
      "702/702 [==============================] - 0s 152us/step - loss: 0.1634 - acc: 0.9573 - val_loss: 0.2359 - val_acc: 0.9103\n",
      "Epoch 51/1000\n",
      "702/702 [==============================] - 0s 147us/step - loss: 0.1184 - acc: 0.9644 - val_loss: 0.2899 - val_acc: 0.9103\n",
      "Epoch 52/1000\n",
      "702/702 [==============================] - 0s 145us/step - loss: 0.1205 - acc: 0.9587 - val_loss: 0.2065 - val_acc: 0.9487\n",
      "Epoch 53/1000\n",
      "702/702 [==============================] - 0s 144us/step - loss: 0.1159 - acc: 0.9644 - val_loss: 0.2064 - val_acc: 0.9103\n",
      "Epoch 54/1000\n",
      "702/702 [==============================] - 0s 131us/step - loss: 0.1200 - acc: 0.9530 - val_loss: 0.2003 - val_acc: 0.9487\n",
      "Epoch 55/1000\n",
      "702/702 [==============================] - 0s 131us/step - loss: 0.1259 - acc: 0.9615 - val_loss: 0.2048 - val_acc: 0.8974\n",
      "Epoch 56/1000\n",
      "702/702 [==============================] - 0s 134us/step - loss: 0.1206 - acc: 0.9601 - val_loss: 0.2609 - val_acc: 0.9103\n",
      "Epoch 57/1000\n",
      "702/702 [==============================] - 0s 130us/step - loss: 0.1192 - acc: 0.9672 - val_loss: 0.2344 - val_acc: 0.9231\n",
      "Epoch 58/1000\n",
      "702/702 [==============================] - 0s 130us/step - loss: 0.1110 - acc: 0.9601 - val_loss: 0.2248 - val_acc: 0.9487\n",
      "Epoch 59/1000\n",
      "702/702 [==============================] - 0s 137us/step - loss: 0.1138 - acc: 0.9587 - val_loss: 0.2789 - val_acc: 0.9231\n",
      "Epoch 60/1000\n",
      "702/702 [==============================] - 0s 136us/step - loss: 0.1216 - acc: 0.9615 - val_loss: 0.2923 - val_acc: 0.9103\n",
      "Epoch 61/1000\n",
      "702/702 [==============================] - 0s 139us/step - loss: 0.1391 - acc: 0.9516 - val_loss: 0.3057 - val_acc: 0.9231\n",
      "Epoch 62/1000\n",
      "702/702 [==============================] - 0s 136us/step - loss: 0.0907 - acc: 0.9715 - val_loss: 0.2816 - val_acc: 0.9103\n",
      "Epoch 63/1000\n",
      "702/702 [==============================] - 0s 142us/step - loss: 0.1067 - acc: 0.9715 - val_loss: 0.3491 - val_acc: 0.9103\n",
      "Epoch 64/1000\n",
      "702/702 [==============================] - 0s 148us/step - loss: 0.1173 - acc: 0.9615 - val_loss: 0.2563 - val_acc: 0.9231\n",
      "Epoch 65/1000\n",
      "702/702 [==============================] - 0s 151us/step - loss: 0.0964 - acc: 0.9615 - val_loss: 0.2543 - val_acc: 0.9103\n",
      "Epoch 66/1000\n",
      "702/702 [==============================] - 0s 149us/step - loss: 0.1231 - acc: 0.9558 - val_loss: 0.2817 - val_acc: 0.9103\n",
      "Epoch 67/1000\n",
      "702/702 [==============================] - 0s 149us/step - loss: 0.1057 - acc: 0.9630 - val_loss: 0.2493 - val_acc: 0.9359\n",
      "Epoch 68/1000\n",
      "702/702 [==============================] - 0s 144us/step - loss: 0.1070 - acc: 0.9630 - val_loss: 0.2668 - val_acc: 0.9359\n",
      "Epoch 69/1000\n",
      "702/702 [==============================] - 0s 138us/step - loss: 0.1091 - acc: 0.9672 - val_loss: 0.2186 - val_acc: 0.9487\n",
      "Epoch 70/1000\n",
      "702/702 [==============================] - 0s 137us/step - loss: 0.0904 - acc: 0.9772 - val_loss: 0.2819 - val_acc: 0.9103\n",
      "Epoch 71/1000\n",
      "702/702 [==============================] - 0s 143us/step - loss: 0.1114 - acc: 0.9644 - val_loss: 0.2558 - val_acc: 0.9103\n",
      "Epoch 72/1000\n",
      "702/702 [==============================] - 0s 151us/step - loss: 0.1190 - acc: 0.9644 - val_loss: 0.2881 - val_acc: 0.9103\n",
      "Epoch 73/1000\n",
      "702/702 [==============================] - 0s 151us/step - loss: 0.0991 - acc: 0.9701 - val_loss: 0.2529 - val_acc: 0.9231\n",
      "Epoch 74/1000\n",
      "702/702 [==============================] - 0s 144us/step - loss: 0.0933 - acc: 0.9615 - val_loss: 0.2076 - val_acc: 0.9359\n",
      "Epoch 75/1000\n",
      "702/702 [==============================] - 0s 150us/step - loss: 0.1131 - acc: 0.9672 - val_loss: 0.2802 - val_acc: 0.9103\n",
      "Epoch 76/1000\n",
      "702/702 [==============================] - 0s 143us/step - loss: 0.1209 - acc: 0.9573 - val_loss: 0.1494 - val_acc: 0.9359\n",
      "Epoch 77/1000\n",
      "702/702 [==============================] - 0s 134us/step - loss: 0.0868 - acc: 0.9644 - val_loss: 0.1822 - val_acc: 0.9359\n",
      "Epoch 78/1000\n",
      "702/702 [==============================] - 0s 136us/step - loss: 0.0851 - acc: 0.9658 - val_loss: 0.2781 - val_acc: 0.9231\n",
      "Epoch 79/1000\n",
      "702/702 [==============================] - 0s 139us/step - loss: 0.0894 - acc: 0.9644 - val_loss: 0.2601 - val_acc: 0.9103\n",
      "Epoch 80/1000\n",
      "702/702 [==============================] - 0s 137us/step - loss: 0.0728 - acc: 0.9687 - val_loss: 0.2820 - val_acc: 0.9231\n",
      "Epoch 81/1000\n",
      "702/702 [==============================] - 0s 147us/step - loss: 0.0966 - acc: 0.9544 - val_loss: 0.2983 - val_acc: 0.9103\n",
      "Epoch 82/1000\n",
      "702/702 [==============================] - 0s 156us/step - loss: 0.0598 - acc: 0.9758 - val_loss: 0.3274 - val_acc: 0.8846\n",
      "Epoch 83/1000\n",
      "702/702 [==============================] - 0s 151us/step - loss: 0.1251 - acc: 0.9587 - val_loss: 0.2388 - val_acc: 0.8846\n",
      "Epoch 84/1000\n",
      "702/702 [==============================] - 0s 147us/step - loss: 0.0826 - acc: 0.9744 - val_loss: 0.1843 - val_acc: 0.9487\n",
      "Epoch 85/1000\n",
      "702/702 [==============================] - 0s 152us/step - loss: 0.1159 - acc: 0.9573 - val_loss: 0.2676 - val_acc: 0.8846\n",
      "Epoch 86/1000\n",
      "702/702 [==============================] - 0s 152us/step - loss: 0.0832 - acc: 0.9729 - val_loss: 0.2500 - val_acc: 0.9231\n",
      "Epoch 87/1000\n",
      "702/702 [==============================] - 0s 142us/step - loss: 0.0713 - acc: 0.9772 - val_loss: 0.2867 - val_acc: 0.9231\n",
      "Epoch 88/1000\n",
      "702/702 [==============================] - 0s 136us/step - loss: 0.0757 - acc: 0.9744 - val_loss: 0.3109 - val_acc: 0.9231\n",
      "Epoch 89/1000\n",
      "702/702 [==============================] - 0s 134us/step - loss: 0.0853 - acc: 0.9701 - val_loss: 0.3262 - val_acc: 0.9103\n",
      "Epoch 90/1000\n",
      "702/702 [==============================] - 0s 137us/step - loss: 0.0683 - acc: 0.9715 - val_loss: 0.2916 - val_acc: 0.9103\n",
      "Epoch 91/1000\n",
      "702/702 [==============================] - 0s 139us/step - loss: 0.0794 - acc: 0.9729 - val_loss: 0.2447 - val_acc: 0.9103\n",
      "Epoch 92/1000\n",
      "702/702 [==============================] - 0s 152us/step - loss: 0.0785 - acc: 0.9729 - val_loss: 0.3059 - val_acc: 0.9231\n",
      "Epoch 93/1000\n",
      "702/702 [==============================] - 0s 145us/step - loss: 0.0719 - acc: 0.9744 - val_loss: 0.3267 - val_acc: 0.9231\n",
      "Epoch 94/1000\n",
      "702/702 [==============================] - 0s 145us/step - loss: 0.0812 - acc: 0.9701 - val_loss: 0.5406 - val_acc: 0.8974\n",
      "Epoch 95/1000\n",
      "702/702 [==============================] - 0s 144us/step - loss: 0.0685 - acc: 0.9715 - val_loss: 0.3263 - val_acc: 0.9231\n",
      "Epoch 96/1000\n",
      "702/702 [==============================] - 0s 139us/step - loss: 0.0743 - acc: 0.9715 - val_loss: 0.2880 - val_acc: 0.9231\n",
      "Epoch 97/1000\n",
      "702/702 [==============================] - 0s 139us/step - loss: 0.0596 - acc: 0.9843 - val_loss: 0.2871 - val_acc: 0.9231\n",
      "Epoch 98/1000\n",
      "702/702 [==============================] - 0s 136us/step - loss: 0.0544 - acc: 0.9829 - val_loss: 0.3490 - val_acc: 0.9231\n",
      "Epoch 99/1000\n",
      "702/702 [==============================] - 0s 137us/step - loss: 0.0416 - acc: 0.9858 - val_loss: 0.2928 - val_acc: 0.9487\n",
      "Epoch 100/1000\n",
      "702/702 [==============================] - 0s 136us/step - loss: 0.0675 - acc: 0.9786 - val_loss: 0.2903 - val_acc: 0.9359\n",
      "Epoch 101/1000\n",
      "702/702 [==============================] - 0s 135us/step - loss: 0.0726 - acc: 0.9758 - val_loss: 0.2856 - val_acc: 0.9359\n",
      "Epoch 102/1000\n",
      "702/702 [==============================] - 0s 138us/step - loss: 0.0668 - acc: 0.9715 - val_loss: 0.3391 - val_acc: 0.9231\n",
      "Epoch 103/1000\n",
      "702/702 [==============================] - 0s 133us/step - loss: 0.1107 - acc: 0.9630 - val_loss: 0.2711 - val_acc: 0.9231\n",
      "Epoch 104/1000\n",
      "702/702 [==============================] - 0s 137us/step - loss: 0.0589 - acc: 0.9815 - val_loss: 0.3186 - val_acc: 0.9103\n",
      "Epoch 105/1000\n",
      "702/702 [==============================] - 0s 138us/step - loss: 0.0838 - acc: 0.9658 - val_loss: 0.3037 - val_acc: 0.9359\n",
      "Epoch 106/1000\n",
      "702/702 [==============================] - 0s 127us/step - loss: 0.0744 - acc: 0.9729 - val_loss: 0.2732 - val_acc: 0.9487\n",
      "CPU times: user 22.2 s, sys: 5.23 s, total: 27.5 s\n",
      "Wall time: 11.1 s\n"
     ]
    }
   ],
   "source": [
    "%%time\n",
    "\n",
    "history = network_fit(mlp,  \n",
    "                      np.expand_dims(ds.X_train, axis=2), \n",
    "                      ds.y_train, \n",
    "                      np.expand_dims(ds.X_test, axis=2),\n",
    "                      ds.y_test, \n",
    "                      epochs=epochs, \n",
    "                      batch_size=batch_size, \n",
    "                      patience=patience, \n",
    "                      verbose=verbose\n",
    ")"
   ]
  },
  {
   "cell_type": "code",
   "execution_count": 17,
   "metadata": {},
   "outputs": [
    {
     "data": {
      "image/png": "[encoded data removed]",
      "text/plain": [
       "<Figure size 1080x360 with 2 Axes>"
      ]
     },
     "metadata": {},
     "output_type": "display_data"
    }
   ],
   "source": [
    "network_plot(history)"
   ]
  },
  {
   "cell_type": "code",
   "execution_count": 18,
   "metadata": {},
   "outputs": [],
   "source": [
    "predictions = network_predict(mlp, np.expand_dims(ds.X_test, axis=2), ds.y_test)\n",
    "comparison = np.concatenate((predictions, ds.y_test), axis=1)"
   ]
  },
  {
   "cell_type": "code",
   "execution_count": 19,
   "metadata": {},
   "outputs": [
    {
     "data": {
      "text/plain": [
       "array([[0.        , 1.        , 0.        , 0.        , 0.        ,\n",
       "        0.        , 1.        , 0.        , 0.        , 0.        ],\n",
       "       [0.        , 1.        , 0.        , 0.        , 0.        ,\n",
       "        0.        , 1.        , 0.        , 0.        , 0.        ],\n",
       "       [1.        , 0.        , 0.        , 0.        , 0.        ,\n",
       "        1.        , 0.        , 0.        , 0.        , 0.        ],\n",
       "       [0.        , 0.        , 1.        , 0.        , 0.        ,\n",
       "        0.        , 0.        , 1.        , 0.        , 0.        ],\n",
       "       [0.        , 1.        , 0.        , 0.        , 0.        ,\n",
       "        0.        , 1.        , 0.        , 0.        , 0.        ],\n",
       "       [0.        , 0.        , 1.        , 0.        , 0.        ,\n",
       "        0.        , 0.        , 1.        , 0.        , 0.        ],\n",
       "       [0.        , 0.        , 0.        , 0.        , 1.        ,\n",
       "        0.        , 0.        , 0.        , 0.        , 1.        ],\n",
       "       [0.009     , 0.991     , 0.        , 0.        , 0.        ,\n",
       "        1.        , 0.        , 0.        , 0.        , 0.        ],\n",
       "       [0.        , 0.99900001, 0.        , 0.        , 0.        ,\n",
       "        0.        , 1.        , 0.        , 0.        , 0.        ],\n",
       "       [0.        , 0.        , 1.        , 0.        , 0.        ,\n",
       "        0.        , 0.        , 1.        , 0.        , 0.        ],\n",
       "       [0.        , 0.        , 0.        , 0.        , 1.        ,\n",
       "        0.        , 0.        , 0.        , 1.        , 0.        ],\n",
       "       [0.        , 0.028     , 0.972     , 0.        , 0.        ,\n",
       "        0.        , 0.        , 1.        , 0.        , 0.        ],\n",
       "       [0.        , 0.        , 0.        , 0.        , 1.        ,\n",
       "        0.        , 0.        , 0.        , 0.        , 1.        ],\n",
       "       [0.        , 1.        , 0.        , 0.        , 0.        ,\n",
       "        0.        , 1.        , 0.        , 0.        , 0.        ],\n",
       "       [0.        , 0.        , 0.        , 0.        , 1.        ,\n",
       "        0.        , 0.        , 0.        , 0.        , 1.        ],\n",
       "       [0.        , 0.        , 1.        , 0.        , 0.        ,\n",
       "        0.        , 0.        , 1.        , 0.        , 0.        ],\n",
       "       [0.        , 0.        , 0.007     , 0.99199998, 0.001     ,\n",
       "        0.        , 0.        , 0.        , 1.        , 0.        ],\n",
       "       [0.        , 0.        , 1.        , 0.        , 0.        ,\n",
       "        0.        , 0.        , 1.        , 0.        , 0.        ],\n",
       "       [0.003     , 0.99699998, 0.        , 0.        , 0.        ,\n",
       "        0.        , 1.        , 0.        , 0.        , 0.        ],\n",
       "       [0.        , 0.        , 0.        , 1.        , 0.        ,\n",
       "        0.        , 0.        , 0.        , 1.        , 0.        ],\n",
       "       [0.        , 0.        , 0.        , 0.        , 1.        ,\n",
       "        0.        , 0.        , 0.        , 0.        , 1.        ],\n",
       "       [0.322     , 0.56800002, 0.016     , 0.092     , 0.001     ,\n",
       "        0.        , 1.        , 0.        , 0.        , 0.        ],\n",
       "       [0.        , 0.        , 1.        , 0.        , 0.        ,\n",
       "        0.        , 0.        , 1.        , 0.        , 0.        ],\n",
       "       [0.        , 1.        , 0.        , 0.        , 0.        ,\n",
       "        0.        , 1.        , 0.        , 0.        , 0.        ],\n",
       "       [0.        , 0.        , 1.        , 0.        , 0.        ,\n",
       "        0.        , 0.        , 1.        , 0.        , 0.        ],\n",
       "       [0.        , 0.002     , 0.        , 0.011     , 0.986     ,\n",
       "        0.        , 0.        , 0.        , 0.        , 1.        ],\n",
       "       [0.        , 0.        , 1.        , 0.        , 0.        ,\n",
       "        0.        , 0.        , 1.        , 0.        , 0.        ],\n",
       "       [0.        , 0.        , 0.        , 0.        , 1.        ,\n",
       "        0.        , 0.        , 0.        , 0.        , 1.        ],\n",
       "       [0.        , 0.        , 1.        , 0.        , 0.        ,\n",
       "        0.        , 0.        , 1.        , 0.        , 0.        ],\n",
       "       [0.        , 1.        , 0.        , 0.        , 0.        ,\n",
       "        0.        , 1.        , 0.        , 0.        , 0.        ],\n",
       "       [1.        , 0.        , 0.        , 0.        , 0.        ,\n",
       "        1.        , 0.        , 0.        , 0.        , 0.        ],\n",
       "       [1.        , 0.        , 0.        , 0.        , 0.        ,\n",
       "        1.        , 0.        , 0.        , 0.        , 0.        ],\n",
       "       [0.        , 0.        , 1.        , 0.        , 0.        ,\n",
       "        0.        , 0.        , 1.        , 0.        , 0.        ],\n",
       "       [0.        , 0.        , 1.        , 0.        , 0.        ,\n",
       "        0.        , 0.        , 1.        , 0.        , 0.        ],\n",
       "       [0.        , 0.        , 1.        , 0.        , 0.        ,\n",
       "        0.        , 0.        , 1.        , 0.        , 0.        ],\n",
       "       [1.        , 0.        , 0.        , 0.        , 0.        ,\n",
       "        1.        , 0.        , 0.        , 0.        , 0.        ],\n",
       "       [0.083     , 0.074     , 0.051     , 0.787     , 0.006     ,\n",
       "        0.        , 0.        , 0.        , 1.        , 0.        ],\n",
       "       [0.        , 0.        , 0.        , 1.        , 0.        ,\n",
       "        0.        , 0.        , 0.        , 1.        , 0.        ],\n",
       "       [1.        , 0.        , 0.        , 0.        , 0.        ,\n",
       "        1.        , 0.        , 0.        , 0.        , 0.        ],\n",
       "       [0.154     , 0.062     , 0.075     , 0.70300001, 0.006     ,\n",
       "        0.        , 0.        , 0.        , 1.        , 0.        ],\n",
       "       [0.        , 0.        , 1.        , 0.        , 0.        ,\n",
       "        0.        , 0.        , 1.        , 0.        , 0.        ],\n",
       "       [0.        , 0.        , 1.        , 0.        , 0.        ,\n",
       "        0.        , 0.        , 1.        , 0.        , 0.        ],\n",
       "       [1.        , 0.        , 0.        , 0.        , 0.        ,\n",
       "        1.        , 0.        , 0.        , 0.        , 0.        ],\n",
       "       [1.        , 0.        , 0.        , 0.        , 0.        ,\n",
       "        1.        , 0.        , 0.        , 0.        , 0.        ],\n",
       "       [0.        , 0.        , 1.        , 0.        , 0.        ,\n",
       "        0.        , 0.        , 1.        , 0.        , 0.        ],\n",
       "       [0.        , 0.        , 0.        , 1.        , 0.        ,\n",
       "        0.        , 0.        , 0.        , 1.        , 0.        ],\n",
       "       [0.        , 0.        , 0.995     , 0.005     , 0.        ,\n",
       "        0.        , 0.        , 1.        , 0.        , 0.        ],\n",
       "       [0.50599998, 0.244     , 0.004     , 0.23199999, 0.013     ,\n",
       "        0.        , 1.        , 0.        , 0.        , 0.        ],\n",
       "       [0.        , 0.        , 0.008     , 0.092     , 0.90100002,\n",
       "        0.        , 0.        , 0.        , 0.        , 1.        ],\n",
       "       [0.        , 1.        , 0.        , 0.        , 0.        ,\n",
       "        0.        , 1.        , 0.        , 0.        , 0.        ],\n",
       "       [0.        , 0.        , 1.        , 0.        , 0.        ,\n",
       "        0.        , 0.        , 1.        , 0.        , 0.        ],\n",
       "       [0.        , 0.        , 0.        , 0.        , 1.        ,\n",
       "        0.        , 0.        , 0.        , 0.        , 1.        ],\n",
       "       [0.        , 0.        , 1.        , 0.        , 0.        ,\n",
       "        0.        , 0.        , 1.        , 0.        , 0.        ],\n",
       "       [0.        , 0.        , 1.        , 0.        , 0.        ,\n",
       "        0.        , 0.        , 1.        , 0.        , 0.        ],\n",
       "       [0.13600001, 0.82200003, 0.03      , 0.011     , 0.001     ,\n",
       "        0.        , 1.        , 0.        , 0.        , 0.        ],\n",
       "       [0.        , 0.        , 1.        , 0.        , 0.        ,\n",
       "        0.        , 0.        , 1.        , 0.        , 0.        ],\n",
       "       [0.        , 0.        , 1.        , 0.        , 0.        ,\n",
       "        0.        , 0.        , 1.        , 0.        , 0.        ],\n",
       "       [1.        , 0.        , 0.        , 0.        , 0.        ,\n",
       "        1.        , 0.        , 0.        , 0.        , 0.        ],\n",
       "       [0.        , 0.        , 1.        , 0.        , 0.        ,\n",
       "        0.        , 0.        , 1.        , 0.        , 0.        ],\n",
       "       [0.        , 0.        , 1.        , 0.        , 0.        ,\n",
       "        0.        , 0.        , 1.        , 0.        , 0.        ],\n",
       "       [0.        , 0.        , 0.99900001, 0.        , 0.001     ,\n",
       "        0.        , 0.        , 1.        , 0.        , 0.        ],\n",
       "       [0.        , 0.        , 1.        , 0.        , 0.        ,\n",
       "        0.        , 0.        , 1.        , 0.        , 0.        ],\n",
       "       [0.866     , 0.021     , 0.112     , 0.        , 0.        ,\n",
       "        0.        , 0.        , 1.        , 0.        , 0.        ],\n",
       "       [0.        , 0.        , 0.        , 0.        , 1.        ,\n",
       "        0.        , 0.        , 0.        , 0.        , 1.        ],\n",
       "       [1.        , 0.        , 0.        , 0.        , 0.        ,\n",
       "        1.        , 0.        , 0.        , 0.        , 0.        ],\n",
       "       [0.        , 0.        , 1.        , 0.        , 0.        ,\n",
       "        0.        , 0.        , 1.        , 0.        , 0.        ],\n",
       "       [0.        , 0.        , 1.        , 0.        , 0.        ,\n",
       "        0.        , 0.        , 1.        , 0.        , 0.        ],\n",
       "       [0.022     , 0.95200002, 0.025     , 0.        , 0.        ,\n",
       "        0.        , 1.        , 0.        , 0.        , 0.        ],\n",
       "       [0.        , 0.        , 1.        , 0.        , 0.        ,\n",
       "        0.        , 0.        , 1.        , 0.        , 0.        ],\n",
       "       [0.        , 0.        , 1.        , 0.        , 0.        ,\n",
       "        0.        , 0.        , 1.        , 0.        , 0.        ],\n",
       "       [0.        , 0.        , 0.        , 0.        , 1.        ,\n",
       "        0.        , 0.        , 0.        , 0.        , 1.        ],\n",
       "       [0.        , 0.        , 0.        , 1.        , 0.        ,\n",
       "        0.        , 0.        , 0.        , 1.        , 0.        ],\n",
       "       [0.        , 0.        , 1.        , 0.        , 0.        ,\n",
       "        0.        , 0.        , 1.        , 0.        , 0.        ],\n",
       "       [0.134     , 0.101     , 0.76599997, 0.        , 0.        ,\n",
       "        0.        , 0.        , 1.        , 0.        , 0.        ],\n",
       "       [0.001     , 0.        , 0.        , 0.99800003, 0.        ,\n",
       "        0.        , 0.        , 0.        , 1.        , 0.        ],\n",
       "       [0.        , 0.        , 0.        , 0.99900001, 0.        ,\n",
       "        0.        , 0.        , 0.        , 1.        , 0.        ],\n",
       "       [0.        , 0.        , 1.        , 0.        , 0.        ,\n",
       "        0.        , 0.        , 1.        , 0.        , 0.        ],\n",
       "       [0.191     , 0.74000001, 0.069     , 0.        , 0.        ,\n",
       "        0.        , 1.        , 0.        , 0.        , 0.        ]])"
      ]
     },
     "execution_count": 19,
     "metadata": {},
     "output_type": "execute_result"
    }
   ],
   "source": [
    "np.set_printoptions(suppress=True)\n",
    "comparison"
   ]
  },
  {
   "cell_type": "code",
   "execution_count": 20,
   "metadata": {},
   "outputs": [],
   "source": [
    "mlp.save(\"../mlp3_2.h5\")"
   ]
  },
  {
   "cell_type": "code",
   "execution_count": 21,
   "metadata": {},
   "outputs": [
    {
     "data": {
      "text/plain": [
       "array([[0.   , 0.001, 0.989, 0.006, 0.004]], dtype=float32)"
      ]
     },
     "execution_count": 21,
     "metadata": {},
     "output_type": "execute_result"
    }
   ],
   "source": [
    "data = np.array([0, 0, 0, 0, 0, 0, 0, 0, 0, 0, 0, 0, 0, 0, 0, 0, 0, 0, 0, 0, 0, 0, 0, 0, 0, 0, 0, 0, 0, 0, 0, 0, 1, 0, 0, 0, 0, 0, 0, 1, 1, 0, 0, 0, 1, 0, 0, 0, 1, 0, 0, 0, 0, 1, 0, 0, 0, 0, 0, 0, 0, 0, 0, 0, 1, 0, 1, 0, 0, 0, 0, 0, 0, 0, 0, 0, 0, 0, 0, 0, 0, 0, 0, 0, 0, 0, 0, 0, 1, 0, 1, 0, 0, 0, 0, 0, 0, 0, 0, 0, 0, 0, 0, 0, 1, 0, 1, 0, 0, 0, 0, 0, 1, 0, 1, 0, 0, 0, 0, 0, 1, 0, 1, 0, 0, 0, 0, 0, 0, 0, 0, 0, 0, 0, 0, 0, 0, 0, 0, 0, 0, 0, 0, 0, 0, 0, 0, 0, 0, 0, 0, 0, 0, 0, 0, 0, 0, 0, 0, 0, 0, 0, 0, 0, 0, 0, 0, 0, 0, 0, 0, 0, 0, 0, 0, 0, 0, 0, 0, 0, 0, 0, 0, 0, 0, 0, 0, 0, 0, 0, 0, 0, 0, 0, 0, 0, 0, 0, 0, 0, 0, 0, 0, 0, 0, 0, 0, 0, 1, 0, 1, 0, 0, 0, 0, 0, 1, 1, 0, 0, 1, 0, 0, 0, 1, 0, 1, 0, 0, 0, 0, 0, 0, 0, 0, 0, 0, 0, 0, 0, 0, 0, 0, 0, 0, 0, 0, 0, 0, 0, 0, 0, 0, 0, 0, 0, 0, 0, 0, 0, 0, 0, 0, 0, 0, 0, 0, 0, 0, 0, 0, 0, 0, 0, 0, 0, 0, 0, 0, 0, 0, 0, 0, 0, 0, 0, 0, 0, 1, 1, 1, 0, 0, 0, 0, 0, 0, 0, 0, 0, 0, 0, 0, 0, 0, 0, 0, 0, 0, 0, 0, 0, 0, 0, 0, 0, 0, 0, 0, 0, 0, 0, 0, 0, 0, 0, 0, 0, 0, 0, 0, 0, 0, 0, 0, 0, 0, 0, 0, 0, 0, 0, 0, 0, 0, 0, 0, 0, 0, 0, 0, 0, 0, 0, 0, 0, 0, 0, 0, 0, 0, 0, 0, 0, 0, 0, 0, 0, 0, 0, 0, 0, 0, 0, 0, 0, 0, 0, 0, 0, 0, 0, 0, 0, 1, 1, 1, 0, 0, 0, 0, 0, 1, 1, 1, 0, 0, 0, 0, 0, 1, 1, 1, 0, 0, 0, 0, 0, 1, 1, 1, 0, 0, 0, 0, 0, 0, 0, 0, 0, 0, 0, 0, 0, 1, 1, 1, 0, 0, 0, 0, 0, 1, 1, 1, 0, 0, 0, 0, 0, 1, 1, 1, 0, 0, 0, 0, 0, 1, 1, 0, 0, 0, 1, 0, 0, 1, 1, 0, 1, 0, 0, 0, 0, 1, 1, 0, 0, 1, 0, 0, 0, 0, 0, 0, 0, 0, 0, 0, 0, 1, 1, 0, 0, 0, 0, 0, 1, 0, 0, 0, 0, 0, 0, 0, 0, 1, 1, 0, 1, 0, 0, 0, 0, 1, 1, 0, 0, 0, 1, 0, 0, 0, 1, 1, 0, 0])\n",
    "\n",
    "data = np.expand_dims(data, axis=0)\n",
    "data = np.expand_dims(data, axis=2)\n",
    "network_predict(mlp, data, ds.y_test)"
   ]
  },
  {
   "cell_type": "code",
   "execution_count": 22,
   "metadata": {},
   "outputs": [
    {
     "data": {
      "text/plain": [
       "78"
      ]
     },
     "execution_count": 22,
     "metadata": {},
     "output_type": "execute_result"
    }
   ],
   "source": [
    "len(ds.y_test)"
   ]
  },
  {
   "cell_type": "code",
   "execution_count": null,
   "metadata": {},
   "outputs": [],
   "source": []
  }
 ],
 "metadata": {
  "kernelspec": {
   "display_name": "Python 3",
   "language": "python",
   "name": "python3"
  },
  "language_info": {
   "codemirror_mode": {
    "name": "ipython",
    "version": 3
   },
   "file_extension": ".py",
   "mimetype": "text/x-python",
   "name": "python",
   "nbconvert_exporter": "python",
   "pygments_lexer": "ipython3",
   "version": "3.6.5"
  }
 },
 "nbformat": 4,
 "nbformat_minor": 2
}
